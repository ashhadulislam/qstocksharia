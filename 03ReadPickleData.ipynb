{
 "cells": [
  {
   "cell_type": "code",
   "execution_count": 5,
   "id": "3ef4af8a-6cb9-41d5-a8d9-b57e4997fbcf",
   "metadata": {},
   "outputs": [],
   "source": [
    "import os\n",
    "import pickle\n",
    "import sys\n",
    "sys.path.append(\"/Users/dr.ashhadulislam/projects/social/musaffaScraper\")\n",
    "import config\n"
   ]
  },
  {
   "cell_type": "code",
   "execution_count": 6,
   "id": "41b19d31-acc1-4cfd-8e42-de65e8425504",
   "metadata": {},
   "outputs": [
    {
     "name": "stdout",
     "output_type": "stream",
     "text": [
      "{'BFS': 'Banks & Financial Services', 'CGS': 'Consumer Goods & Services', 'IND': 'Industrials', 'INS': 'Insurance', 'RLE': 'Real Estate', 'TLE': 'Telecoms', 'TRN': 'Transportation'}\n",
      "{'BFS': ['QNBK', 'QIBK', 'CBQK', 'DHBK', 'ABQK', 'QIIK', 'MARK', 'QFBQ', 'DUBK', 'NLCS', 'DBIS', 'QOIS', 'IHGS'], 'CGS': ['ZHCD', 'QGMD', 'SIIS', 'BLDN', 'MCGS', 'QCFS', 'QFLS', 'WDAM', 'MCCS', 'MERS', 'MKDM', 'MEZA', 'FALH', 'MHAR'], 'IND': ['QAMC', 'QIMD', 'QNCD', 'IQCD', 'QIGD', 'QEWS', 'AHCS', 'GISS', 'MPHC', 'IGRD'], 'INS': ['QATI', 'DOHI', 'QLMI', 'QGRI', 'AKHI', 'QISI', 'BEMA'], 'RLE': ['UDCD', 'BRES', 'ERES', 'MRDS'], 'TLE': ['ORDS', 'VFQS'], 'TRN': ['QNNS', 'GWCS', 'QGTS']}\n"
     ]
    }
   ],
   "source": [
    "print(config.qat_categories)\n",
    "print(config.qat_company_categorised)"
   ]
  },
  {
   "cell_type": "code",
   "execution_count": 18,
   "id": "2af0b481-2020-4c6b-8700-b9ce0eedbf19",
   "metadata": {},
   "outputs": [
    {
     "name": "stdout",
     "output_type": "stream",
     "text": [
      "BFS\n",
      "QNBK\n",
      "{'shariah_compliance_info_level1': {'Title': 'Shariah Compliance', 'Screening Methodology': 'AAOIFI', 'Compliance Status': 'NOT HALAL', 'Rating': 'N/A', 'Last Updated': 'March 12, 2025', 'Report Source': '2024 Annual Report', 'History Link': 'View Compliance History', 'Action Button': 'VIEW DETAILED REPORT'}, 'business_screening': {'business_activity': 'Fail'}, 'absolute_halal_calculation': {'Halal Sales & Income': '0.00', 'Doubtful Sales & Income': '10.99B', 'Non Halal Sales & Income': '129.78B', 'Total Revenue': '140.77B'}, 'detailed_report': {'': {'_total': '', '': ''}}, 'financial_screening': {'interest_bearing_securities_and_assets': 'Fail', 'interest_bearing_debt': 'Fail'}, 'interest_bearing_percentage': {'Short-term': '59.22%', 'Long-term': '683.25%', 'Interest-bearing securities and assets': '742.47%'}, 'interest_bearing_absolute': {'Short-term': '93.79B', 'Long-term': '1.08T', 'Interest-bearing securities and assets': '1.18T'}, 'trailing_36_month_avg_market_cap': '158.37B', 'interest_bearing_debt_percentage': {'Short-term': '463.67%', 'Long-term': '128.21%', 'Total Interest-bearing debt': '591.88%'}, 'interest_bearing_debt_absolute': {'Short-term': '734.33B', 'Long-term': '203.05B', 'Total Interest-bearing debt': '937.38B'}, 'compliance_history': [{'date_range': 'Jan 2024 to Dec 2024', 'report_source': '2024 Annual Report', 'status': 'NOT HALAL'}, {'date_range': 'Oct 2023 to Sep 2024', 'report_source': '2024 3rd Quarter Report', 'status': 'NOT HALAL'}, {'date_range': 'Dec 2023 to Jun 2024', 'report_source': '2024 2nd Quarter Report', 'status': 'NOT HALAL'}, {'date_range': 'Dec 2023 to Mar 2024', 'report_source': '2024 1st Quarter Report', 'status': 'NOT HALAL'}, {'date_range': 'Jan 2023 to Dec 2023', 'report_source': '2023 Annual Report', 'status': 'NOT HALAL'}, {'date_range': 'Dec 2022 to Sep 2023', 'report_source': '2023 3rd Quarter Report', 'status': 'NOT HALAL'}, {'date_range': 'Dec 2022 to Mar 2023', 'report_source': '2023 1st Quarter Report', 'status': 'NOT HALAL'}, {'date_range': 'Dec 2021 to Sep 2022', 'report_source': '2022 3rd Quarter Report', 'status': 'NOT HALAL'}]}\n",
      "********************\n",
      "QIBK\n",
      "{'shariah_compliance_info_level1': {'Title': 'Shariah Compliance', 'Screening Methodology': 'AAOIFI', 'Compliance Status': 'HALAL', 'Rating': 'A+', 'Last Updated': 'February 03, 2025', 'Report Source': '2024 Annual Report', 'History Link': 'View Compliance History', 'Action Button': 'N/A'}, 'business_screening': {'business_activity': 'Pass'}, 'absolute_halal_calculation': {'Halal Sales & Income': '13.95B', 'Doubtful Sales & Income': '0.00', 'Non Halal Sales & Income': '0.00', 'Total Revenue': '13.95B'}, 'detailed_report': {'': {'_total': '', '': ''}}, 'financial_screening': {'interest_bearing_securities_and_assets': 'Pass', 'interest_bearing_debt': 'Pass'}, 'interest_bearing_percentage': {'Short-term': '0.00%', 'Long-term': '0.00%', 'Interest-bearing securities and assets': '0.00%'}, 'interest_bearing_absolute': {'Short-term': '0.00', 'Long-term': '0.00', 'Interest-bearing securities and assets': '0.00'}, 'trailing_36_month_avg_market_cap': '48.56B', 'interest_bearing_debt_percentage': {'Short-term': '0.00%', 'Long-term': '0.00%', 'Total Interest-bearing debt': '0.00%'}, 'interest_bearing_debt_absolute': {'Short-term': '0.00', 'Long-term': '0.00', 'Total Interest-bearing debt': '0.00'}, 'compliance_history': [{'date_range': 'Jan 2024 to Dec 2024', 'report_source': '2024 Annual Report', 'status': 'HALAL'}, {'date_range': 'Dec 2023 to Sep 2024', 'report_source': '2024 3rd Quarter Report', 'status': 'HALAL'}, {'date_range': 'Dec 2023 to Jun 2024', 'report_source': '2024 2nd Quarter Report', 'status': 'HALAL'}, {'date_range': 'Dec 2023 to Mar 2024', 'report_source': '2024 1st Quarter Report', 'status': 'HALAL'}, {'date_range': 'Jan 2023 to Dec 2023', 'report_source': '2023 Annual Report', 'status': 'HALAL'}, {'date_range': 'Dec 2022 to Sep 2023', 'report_source': '2023 3rd Quarter Report', 'status': 'HALAL'}, {'date_range': 'Dec 2022 to Mar 2023', 'report_source': '2023 1st Quarter Report', 'status': 'HALAL'}, {'date_range': 'Dec 2021 to Sep 2022', 'report_source': '2022 3rd Quarter Report', 'status': 'HALAL'}]}\n",
      "********************\n",
      "CBQK\n",
      "{'shariah_compliance_info_level1': {'Title': 'Shariah Compliance', 'Screening Methodology': 'AAOIFI', 'Compliance Status': 'NOT HALAL', 'Rating': 'N/A', 'Last Updated': 'March 12, 2025', 'Report Source': '2024 Annual Report', 'History Link': 'View Compliance History', 'Action Button': 'VIEW DETAILED REPORT'}, 'business_screening': {'business_activity': 'Fail'}, 'absolute_halal_calculation': {'Halal Sales & Income': '218.66M', 'Doubtful Sales & Income': '2.31B', 'Non Halal Sales & Income': '10.58B', 'Total Revenue': '13.10B'}, 'detailed_report': {'': {'_total': '', '': ''}}, 'financial_screening': {'interest_bearing_securities_and_assets': 'Fail', 'interest_bearing_debt': 'Fail'}, 'interest_bearing_percentage': {'Short-term': '129.17%', 'Long-term': '568.94%', 'Interest-bearing securities and assets': '698.11%'}, 'interest_bearing_absolute': {'Short-term': '28.01B', 'Long-term': '123.38B', 'Interest-bearing securities and assets': '151.40B'}, 'trailing_36_month_avg_market_cap': '21.69B', 'interest_bearing_debt_percentage': {'Short-term': '451.19%', 'Long-term': '163.53%', 'Total Interest-bearing debt': '614.72%'}, 'interest_bearing_debt_absolute': {'Short-term': '97.85B', 'Long-term': '35.46B', 'Total Interest-bearing debt': '133.31B'}, 'compliance_history': [{'date_range': 'Jan 2024 to Dec 2024', 'report_source': '2024 Annual Report', 'status': 'NOT HALAL'}, {'date_range': 'Dec 2023 to Jun 2024', 'report_source': '2024 2nd Quarter Report', 'status': 'NOT HALAL'}, {'date_range': 'Dec 2023 to Mar 2024', 'report_source': '2024 1st Quarter Report', 'status': 'NOT HALAL'}, {'date_range': 'Jan 2023 to Dec 2023', 'report_source': '2023 Annual Report', 'status': 'NOT HALAL'}, {'date_range': 'Dec 2022 to Sep 2023', 'report_source': '2023 3rd Quarter Report', 'status': 'NOT HALAL'}, {'date_range': 'Dec 2022 to Mar 2023', 'report_source': '2023 1st Quarter Report', 'status': 'NOT HALAL'}, {'date_range': 'Dec 2021 to Sep 2022', 'report_source': '2022 3rd Quarter Report', 'status': 'NOT HALAL'}]}\n",
      "********************\n",
      "DHBK\n",
      "{'shariah_compliance_info_level1': {'Title': 'Shariah Compliance', 'Screening Methodology': 'AAOIFI', 'Compliance Status': 'NOT HALAL', 'Rating': 'N/A', 'Last Updated': 'March 12, 2025', 'Report Source': '2024 Annual Report', 'History Link': 'View Compliance History', 'Action Button': 'VIEW DETAILED REPORT'}, 'business_screening': {'business_activity': 'Fail'}, 'absolute_halal_calculation': {'Halal Sales & Income': '12.18M', 'Doubtful Sales & Income': '1.44B', 'Non Halal Sales & Income': '6.45B', 'Total Revenue': '7.91B'}, 'detailed_report': {'': {'_total': '', '': ''}}, 'financial_screening': {'interest_bearing_securities_and_assets': 'Fail', 'interest_bearing_debt': 'Fail'}, 'interest_bearing_percentage': {'Short-term': '218.85%', 'Long-term': '1,621.81%', 'Interest-bearing securities and assets': '1,840.66%'}, 'interest_bearing_absolute': {'Short-term': '12.73B', 'Long-term': '94.34B', 'Interest-bearing securities and assets': '107.07B'}, 'trailing_36_month_avg_market_cap': '5.82B', 'interest_bearing_debt_percentage': {'Short-term': '654.07%', 'Long-term': '940.06%', 'Total Interest-bearing debt': '1,594.13%'}, 'interest_bearing_debt_absolute': {'Short-term': '38.05B', 'Long-term': '54.68B', 'Total Interest-bearing debt': '92.73B'}, 'compliance_history': [{'date_range': 'Jan 2024 to Dec 2024', 'report_source': '2024 Annual Report', 'status': 'NOT HALAL'}, {'date_range': 'Dec 2023 to Jun 2024', 'report_source': '2024 2nd Quarter Report', 'status': 'NOT HALAL'}, {'date_range': 'Dec 2023 to Mar 2024', 'report_source': '2024 1st Quarter Report', 'status': 'NOT HALAL'}, {'date_range': 'Jan 2023 to Dec 2023', 'report_source': '2023 Annual Report', 'status': 'NOT HALAL'}, {'date_range': 'Dec 2022 to Sep 2023', 'report_source': '2022 3rd Quarter Report', 'status': 'NOT HALAL'}, {'date_range': 'Dec 2022 to Sep 2023', 'report_source': '2023 3rd Quarter Report', 'status': 'NOT HALAL'}, {'date_range': 'Dec 2022 to Jun 2023', 'report_source': '2023 2nd Quarter Report', 'status': 'NOT HALAL'}]}\n",
      "********************\n",
      "ABQK\n",
      "{'shariah_compliance_info_level1': {'Title': 'Shariah Compliance', 'Screening Methodology': 'AAOIFI', 'Compliance Status': 'NOT HALAL', 'Rating': 'N/A', 'Last Updated': 'March 12, 2025', 'Report Source': '2024 Annual Report', 'History Link': 'View Compliance History', 'Action Button': 'VIEW DETAILED REPORT'}, 'business_screening': {'business_activity': 'Fail'}, 'absolute_halal_calculation': {'Halal Sales & Income': '0.00', 'Doubtful Sales & Income': '121.09M', 'Non Halal Sales & Income': '3.64B', 'Total Revenue': '3.76B'}, 'detailed_report': {'': {'_total': '', '': ''}}, 'financial_screening': {'interest_bearing_securities_and_assets': 'Fail', 'interest_bearing_debt': 'Fail'}, 'interest_bearing_percentage': {'Short-term': '503.56%', 'Long-term': '9.60%', 'Interest-bearing securities and assets': '513.16%'}, 'interest_bearing_absolute': {'Short-term': '49.57B', 'Long-term': '944.94M', 'Interest-bearing securities and assets': '50.52B'}, 'trailing_36_month_avg_market_cap': '9.84B', 'interest_bearing_debt_percentage': {'Short-term': '145.15%', 'Long-term': '363.80%', 'Total Interest-bearing debt': '508.96%'}, 'interest_bearing_debt_absolute': {'Short-term': '14.29B', 'Long-term': '35.82B', 'Total Interest-bearing debt': '50.11B'}, 'compliance_history': [{'date_range': 'Jan 2024 to Dec 2024', 'report_source': '2024 Annual Report', 'status': 'NOT HALAL'}, {'date_range': 'Dec 2023 to Jun 2024', 'report_source': '2024 2nd Quarter Report', 'status': 'NOT HALAL'}, {'date_range': 'Dec 2023 to Mar 2024', 'report_source': '2024 1st Quarter Report', 'status': 'NOT HALAL'}, {'date_range': 'Jan 2023 to Dec 2023', 'report_source': '2023 Annual Report', 'status': 'NOT HALAL'}, {'date_range': 'Dec 2022 to Sep 2023', 'report_source': '2022 3rd Quarter Report', 'status': 'NOT HALAL'}, {'date_range': 'Dec 2022 to Sep 2023', 'report_source': '2023 3rd Quarter Report', 'status': 'NOT HALAL'}, {'date_range': 'Dec 2022 to Jun 2023', 'report_source': '2023 2nd Quarter Report', 'status': 'NOT HALAL'}]}\n",
      "********************\n",
      "QIIK\n",
      "{'shariah_compliance_info_level1': {'Title': 'Shariah Compliance', 'Screening Methodology': 'AAOIFI', 'Compliance Status': 'HALAL', 'Rating': 'A+', 'Last Updated': 'March 12, 2025', 'Report Source': '2024 Annual Report', 'History Link': 'View Compliance History', 'Action Button': 'N/A'}, 'business_screening': {'business_activity': 'Pass'}, 'absolute_halal_calculation': {'Halal Sales & Income': '4.14B', 'Doubtful Sales & Income': '0.00', 'Non Halal Sales & Income': '0.00', 'Total Revenue': '4.14B'}, 'detailed_report': {'': {'_total': '', '': ''}}, 'financial_screening': {'interest_bearing_securities_and_assets': 'Pass', 'interest_bearing_debt': 'Pass'}, 'interest_bearing_percentage': {'Short-term': '0.00%', 'Long-term': '0.00%', 'Interest-bearing securities and assets': '0.00%'}, 'interest_bearing_absolute': {'Short-term': '0.00', 'Long-term': '0.00', 'Interest-bearing securities and assets': '0.00'}, 'trailing_36_month_avg_market_cap': '16.06B', 'interest_bearing_debt_percentage': {'Short-term': '0.00%', 'Long-term': '0.00%', 'Total Interest-bearing debt': '0.00%'}, 'interest_bearing_debt_absolute': {'Short-term': '0.00', 'Long-term': '0.00', 'Total Interest-bearing debt': '0.00'}, 'compliance_history': [{'date_range': 'Jan 2024 to Dec 2024', 'report_source': '2024 Annual Report', 'status': 'HALAL'}, {'date_range': 'Jan 2024 to Sep 2024', 'report_source': '2024 3rd Quarter Report', 'status': 'HALAL'}, {'date_range': 'Dec 2023 to Jun 2024', 'report_source': '2024 2nd Quarter Report', 'status': 'HALAL'}, {'date_range': 'Dec 2023 to Mar 2024', 'report_source': '2024 1st Quarter Report', 'status': 'HALAL'}, {'date_range': 'Jan 2023 to Dec 2023', 'report_source': '2023 Annual Report', 'status': 'HALAL'}, {'date_range': 'Dec 2022 to Sep 2023', 'report_source': '2023 3rd Quarter Report', 'status': 'HALAL'}, {'date_range': 'Dec 2022 to Jun 2023', 'report_source': '2023 2nd Quarter Report', 'status': 'HALAL'}, {'date_range': 'Dec 2021 to Sep 2022', 'report_source': '2022 3rd Quarter Report', 'status': 'HALAL'}]}\n",
      "********************\n",
      "MARK\n",
      "{'shariah_compliance_info_level1': {'Title': 'Shariah Compliance', 'Screening Methodology': 'AAOIFI', 'Compliance Status': 'HALAL', 'Rating': 'A+', 'Last Updated': 'March 12, 2025', 'Report Source': '2024 Annual Report', 'History Link': 'View Compliance History', 'Action Button': 'N/A'}, 'business_screening': {'business_activity': 'Pass'}, 'absolute_halal_calculation': {'Halal Sales & Income': '10.06B', 'Doubtful Sales & Income': '0.00', 'Non Halal Sales & Income': '0.00', 'Total Revenue': '10.06B'}, 'detailed_report': {'': {'_total': '', '': ''}}, 'financial_screening': {'interest_bearing_securities_and_assets': 'Pass', 'interest_bearing_debt': 'Pass'}, 'interest_bearing_percentage': {'Short-term': '0.00%', 'Long-term': '0.00%', 'Interest-bearing securities and assets': '0.00%'}, 'interest_bearing_absolute': {'Short-term': '0.00', 'Long-term': '0.00', 'Interest-bearing securities and assets': '0.00'}, 'trailing_36_month_avg_market_cap': '27.74B', 'interest_bearing_debt_percentage': {'Short-term': '0.00%', 'Long-term': '0.00%', 'Total Interest-bearing debt': '0.00%'}, 'interest_bearing_debt_absolute': {'Short-term': '0.00', 'Long-term': '0.00', 'Total Interest-bearing debt': '0.00'}, 'compliance_history': [{'date_range': 'Jan 2024 to Dec 2024', 'report_source': '2024 Annual Report', 'status': 'HALAL'}, {'date_range': 'Dec 2023 to Jun 2024', 'report_source': '2024 2nd Quarter Report', 'status': 'HALAL'}, {'date_range': 'Dec 2023 to Mar 2024', 'report_source': '2024 1st Quarter Report', 'status': 'HALAL'}, {'date_range': 'Jan 2023 to Dec 2023', 'report_source': '2023 Annual Report', 'status': 'HALAL'}, {'date_range': 'Dec 2022 to Sep 2023', 'report_source': '2023 3rd Quarter Report', 'status': 'HALAL'}, {'date_range': 'Dec 2022 to Mar 2023', 'report_source': '2023 1st Quarter Report', 'status': 'HALAL'}, {'date_range': 'Dec 2021 to Sep 2022', 'report_source': '2022 3rd Quarter Report', 'status': 'HALAL'}]}\n",
      "********************\n",
      "QFBQ\n",
      "{'shariah_compliance_info_level1': {'Title': 'Shariah Compliance', 'Screening Methodology': 'AAOIFI', 'Compliance Status': 'HALAL', 'Rating': 'A-', 'Last Updated': 'April 17, 2025', 'Report Source': '2024 Annual Report', 'History Link': 'View Compliance History', 'Action Button': 'N/A'}, 'business_screening': {'business_activity': 'Pass'}, 'absolute_halal_calculation': {'Halal Sales & Income': '530.54M', 'Doubtful Sales & Income': '0.00', 'Non Halal Sales & Income': '0.00', 'Total Revenue': '530.54M'}, 'detailed_report': {'': {'_total': '', 'Dividend income': '24.38M', '': '', 'Gain on disposal of sukuk investments': '569.00K', 'Rental income from investments in real estate': '27.15M', 'Gain on disposal of equity investments': '84.57M'}}, 'financial_screening': {'interest_bearing_securities_and_assets': 'Pass', 'interest_bearing_debt': 'Pass'}, 'interest_bearing_percentage': {'Short-term': '0.00%', 'Long-term': '0.00%', 'Interest-bearing securities and assets': '0.00%'}, 'interest_bearing_absolute': {'Short-term': '0.00', 'Long-term': '0.00', 'Interest-bearing securities and assets': '0.00'}, 'trailing_36_month_avg_market_cap': '1.45B', 'interest_bearing_debt_percentage': {'Short-term': '0.00%', 'Long-term': '0.00%', 'Total Interest-bearing debt': '0.00%'}, 'interest_bearing_debt_absolute': {'Short-term': '0.00', 'Long-term': '0.00', 'Total Interest-bearing debt': '0.00'}, 'compliance_history': [{'date_range': 'Jan 2024 to Dec 2024', 'report_source': '2024 Annual Report', 'status': 'HALAL'}, {'date_range': 'Dec 2023 to Mar 2024', 'report_source': '2024 1st Quarter Report', 'status': 'HALAL'}, {'date_range': 'Jan 2023 to Dec 2023', 'report_source': '2023 Annual Report', 'status': 'HALAL'}, {'date_range': 'Dec 2022 to Mar 2023', 'report_source': '2023 1st Quarter Report', 'status': 'HALAL'}]}\n",
      "********************\n",
      "DUBK\n",
      "{'shariah_compliance_info_level1': {'Title': 'Shariah Compliance', 'Screening Methodology': 'AAOIFI', 'Compliance Status': 'HALAL', 'Rating': 'B', 'Last Updated': 'March 12, 2025', 'Report Source': '2024 Annual Report', 'History Link': 'View Compliance History', 'Action Button': 'VIEW DETAILED REPORT'}, 'business_screening': {'business_activity': 'Pass'}, 'absolute_halal_calculation': {'Halal Sales & Income': '6.89B', 'Doubtful Sales & Income': '0.00', 'Non Halal Sales & Income': '0.00', 'Total Revenue': '6.89B'}, 'detailed_report': {'': {'_total': '', '': ''}}, 'financial_screening': {'interest_bearing_securities_and_assets': 'Pass', 'interest_bearing_debt': 'Pass'}, 'interest_bearing_percentage': {'Short-term': '18.79%', 'Long-term': '0.00%', 'Interest-bearing securities and assets': '18.79%'}, 'interest_bearing_absolute': {'Short-term': '3.64B', 'Long-term': '0.00', 'Interest-bearing securities and assets': '3.64B'}, 'trailing_36_month_avg_market_cap': '19.37B', 'interest_bearing_debt_percentage': {'Short-term': '0.00%', 'Long-term': '0.00%', 'Total Interest-bearing debt': '0.00%'}, 'interest_bearing_debt_absolute': {'Short-term': '0.00', 'Long-term': '0.00', 'Total Interest-bearing debt': '0.00'}, 'compliance_history': [{'date_range': 'Jan 2024 to Dec 2024', 'report_source': '2024 Annual Report', 'status': 'HALAL'}, {'date_range': 'Oct 2023 to Sep 2024', 'report_source': '2024 3rd Quarter Report', 'status': 'HALAL'}, {'date_range': 'Dec 2023 to Jun 2024', 'report_source': '2024 2nd Quarter Report', 'status': 'HALAL'}, {'date_range': 'Dec 2023 to Mar 2024', 'report_source': '2024 1st Quarter Report', 'status': 'HALAL'}, {'date_range': 'Jan 2023 to Dec 2023', 'report_source': '2023 Annual Report', 'status': 'HALAL'}, {'date_range': 'Dec 2022 to Jun 2023', 'report_source': '2023 2nd Quarter Report', 'status': 'HALAL'}]}\n",
      "********************\n",
      "NLCS\n",
      "{'shariah_compliance_info_level1': {'Title': 'Shariah Compliance', 'Screening Methodology': 'AAOIFI', 'Compliance Status': 'HALAL', 'Rating': 'B+', 'Last Updated': 'April 17, 2025', 'Report Source': '2024 Annual Report', 'History Link': 'View Compliance History', 'Action Button': 'VIEW DETAILED REPORT'}, 'business_screening': {'business_activity': 'Pass'}, 'absolute_halal_calculation': {'Halal Sales & Income': '74.56M', 'Doubtful Sales & Income': '0.00', 'Non Halal Sales & Income': '0.00', 'Total Revenue': '74.56M'}, 'detailed_report': {'': {'_total': '', '': ''}}, 'financial_screening': {'interest_bearing_securities_and_assets': 'Pass', 'interest_bearing_debt': 'Pass'}, 'interest_bearing_percentage': {'Short-term': '1.28%', 'Long-term': '0.00%', 'Interest-bearing securities and assets': '1.28%'}, 'interest_bearing_absolute': {'Short-term': '4.92M', 'Long-term': '0.00', 'Interest-bearing securities and assets': '4.92M'}, 'trailing_36_month_avg_market_cap': '384.20M', 'interest_bearing_debt_percentage': {'Short-term': '0.00%', 'Long-term': '0.00%', 'Total Interest-bearing debt': '0.00%'}, 'interest_bearing_debt_absolute': {'Short-term': '0.00', 'Long-term': '0.00', 'Total Interest-bearing debt': '0.00'}, 'compliance_history': [{'date_range': 'Jan 2024 to Dec 2024', 'report_source': '2024 Annual Report', 'status': 'HALAL'}, {'date_range': 'Oct 2023 to Sep 2024', 'report_source': '2024 3rd Quarter Report', 'status': 'HALAL'}, {'date_range': 'Dec 2023 to Jun 2024', 'report_source': '2024 2nd Quarter Report', 'status': 'DOUBTFUL'}, {'date_range': 'Dec 2023 to Mar 2024', 'report_source': '2024 1st Quarter Report', 'status': 'HALAL'}, {'date_range': 'Jan 2023 to Dec 2023', 'report_source': '2023 Annual Report', 'status': 'HALAL'}, {'date_range': 'Dec 2022 to Sep 2023', 'report_source': '2023 3rd Quarter Report', 'status': 'DOUBTFUL'}, {'date_range': 'Dec 2022 to Mar 2023', 'report_source': '2023 1st Quarter Report', 'status': 'HALAL'}, {'date_range': 'Dec 2021 to Sep 2022', 'report_source': '2022 3rd Quarter Report', 'status': 'HALAL'}]}\n",
      "********************\n",
      "DBIS\n",
      "DBIS not done yet\n",
      "******************************\n",
      "QOIS\n",
      "QOIS not done yet\n",
      "******************************\n",
      "IHGS\n",
      "IHGS not done yet\n",
      "******************************\n",
      "CGS\n",
      "ZHCD\n",
      "{'shariah_compliance_info_level1': {'Title': 'Shariah Compliance', 'Screening Methodology': 'AAOIFI', 'Compliance Status': 'HALAL', 'Rating': 'B', 'Last Updated': 'March 12, 2025', 'Report Source': '2024 3rd Quarter Report', 'History Link': 'View Compliance History', 'Action Button': 'VIEW DETAILED REPORT'}, 'business_screening': {'business_activity': 'Pass'}, 'absolute_halal_calculation': {'Halal Sales & Income': '1.12B', 'Doubtful Sales & Income': '16.39M', 'Non Halal Sales & Income': '2.73M', 'Total Revenue': '1.14B'}, 'detailed_report': {'': {'_total': '', '': ''}}, 'financial_screening': {'interest_bearing_securities_and_assets': 'Pass', 'interest_bearing_debt': 'Pass'}, 'interest_bearing_percentage': {'Short-term': '1.36%', 'Long-term': '0.00%', 'Interest-bearing securities and assets': '1.36%'}, 'interest_bearing_absolute': {'Short-term': '56.74M', 'Long-term': '0.00', 'Interest-bearing securities and assets': '56.74M'}, 'trailing_36_month_avg_market_cap': '4.18B', 'interest_bearing_debt_percentage': {'Short-term': '0.00%', 'Long-term': '0.00%', 'Total Interest-bearing debt': '0.00%'}, 'interest_bearing_debt_absolute': {'Short-term': '0.00', 'Long-term': '0.00', 'Total Interest-bearing debt': '0.00'}, 'compliance_history': [{'date_range': 'Jan 2024 to Sep 2024', 'report_source': '2024 3rd Quarter Report', 'status': 'HALAL'}, {'date_range': 'Dec 2023 to Jun 2024', 'report_source': '2024 2nd Quarter Report', 'status': 'HALAL'}, {'date_range': 'Dec 2023 to Mar 2024', 'report_source': '2024 1st Quarter Report', 'status': 'HALAL'}, {'date_range': 'Jan 2023 to Dec 2023', 'report_source': '2023 Annual Report', 'status': 'HALAL'}, {'date_range': 'Dec 2022 to Sep 2023', 'report_source': '2023 3rd Quarter Report', 'status': 'HALAL'}, {'date_range': 'Dec 2022 to Mar 2023', 'report_source': '2023 1st Quarter Report', 'status': 'HALAL'}, {'date_range': 'Dec 2021 to Sep 2022', 'report_source': '2022 3rd Quarter Report', 'status': 'HALAL'}]}\n",
      "********************\n",
      "QGMD\n",
      "QGMD not done yet\n",
      "******************************\n",
      "SIIS\n",
      "SIIS not done yet\n",
      "******************************\n",
      "BLDN\n",
      "BLDN not done yet\n",
      "******************************\n",
      "MCGS\n",
      "MCGS not done yet\n",
      "******************************\n",
      "QCFS\n",
      "QCFS not done yet\n",
      "******************************\n",
      "QFLS\n",
      "QFLS not done yet\n",
      "******************************\n",
      "WDAM\n",
      "WDAM not done yet\n",
      "******************************\n",
      "MCCS\n",
      "MCCS not done yet\n",
      "******************************\n",
      "MERS\n",
      "MERS not done yet\n",
      "******************************\n",
      "MKDM\n",
      "MKDM not done yet\n",
      "******************************\n",
      "MEZA\n",
      "MEZA not done yet\n",
      "******************************\n",
      "FALH\n",
      "FALH not done yet\n",
      "******************************\n",
      "MHAR\n",
      "MHAR not done yet\n",
      "******************************\n",
      "IND\n",
      "QAMC\n",
      "{'shariah_compliance_info_level1': {'Title': 'Shariah Compliance', 'Screening Methodology': 'AAOIFI', 'Compliance Status': 'NOT HALAL', 'Rating': 'N/A', 'Last Updated': 'February 25, 2025', 'Report Source': '2024 Annual Report', 'History Link': 'View Compliance History', 'Action Button': 'VIEW DETAILED REPORT'}, 'business_screening': {'business_activity': 'Fail'}, 'absolute_halal_calculation': {'Halal Sales & Income': '547.04M', 'Doubtful Sales & Income': '1.84M', 'Non Halal Sales & Income': '74.63M', 'Total Revenue': '623.51M'}, 'detailed_report': {'': {'_total': '', '': ''}}, 'financial_screening': {'interest_bearing_securities_and_assets': 'Pass', 'interest_bearing_debt': 'Pass'}, 'interest_bearing_percentage': {'Short-term': '16.08%', 'Long-term': '0.00%', 'Interest-bearing securities and assets': '16.08%'}, 'interest_bearing_absolute': {'Short-term': '1.37B', 'Long-term': '0.00', 'Interest-bearing securities and assets': '1.37B'}, 'trailing_36_month_avg_market_cap': '8.52B', 'interest_bearing_debt_percentage': {'Short-term': '0.00%', 'Long-term': '0.00%', 'Total Interest-bearing debt': '0.00%'}, 'interest_bearing_debt_absolute': {'Short-term': '0.00', 'Long-term': '0.00', 'Total Interest-bearing debt': '0.00'}, 'compliance_history': [{'date_range': 'Jan 2024 to Dec 2024', 'report_source': '2024 Annual Report', 'status': 'NOT HALAL'}, {'date_range': 'Dec 2023 to Jun 2024', 'report_source': '2024 2nd Quarter Report', 'status': 'NOT HALAL'}, {'date_range': 'Dec 2023 to Mar 2024', 'report_source': '2024 1st Quarter Report', 'status': 'NOT HALAL'}, {'date_range': 'Jan 2023 to Dec 2023', 'report_source': '2023 Annual Report', 'status': 'NOT HALAL'}, {'date_range': 'Dec 2022 to Sep 2023', 'report_source': '2023 3rd Quarter Report', 'status': 'NOT HALAL'}, {'date_range': 'Dec 2022 to Mar 2023', 'report_source': '2023 1st Quarter Report', 'status': 'NOT HALAL'}, {'date_range': 'Dec 2021 to Sep 2022', 'report_source': '2022 3rd Quarter Report', 'status': 'HALAL'}]}\n",
      "********************\n",
      "QIMD\n",
      "QIMD not done yet\n",
      "******************************\n",
      "QNCD\n",
      "QNCD not done yet\n",
      "******************************\n",
      "IQCD\n",
      "IQCD not done yet\n",
      "******************************\n",
      "QIGD\n",
      "QIGD not done yet\n",
      "******************************\n",
      "QEWS\n",
      "QEWS not done yet\n",
      "******************************\n",
      "AHCS\n",
      "AHCS not done yet\n",
      "******************************\n",
      "GISS\n",
      "GISS not done yet\n",
      "******************************\n",
      "MPHC\n",
      "MPHC not done yet\n",
      "******************************\n",
      "IGRD\n",
      "IGRD not done yet\n",
      "******************************\n",
      "INS\n",
      "QATI\n",
      "{'shariah_compliance_info_level1': {'Title': 'Shariah Compliance', 'Screening Methodology': 'AAOIFI', 'Compliance Status': 'NOT HALAL', 'Rating': 'N/A', 'Last Updated': 'March 11, 2025', 'Report Source': '2024 Annual Report', 'History Link': 'View Compliance History', 'Action Button': 'VIEW DETAILED REPORT'}, 'business_screening': {'business_activity': 'Fail'}, 'absolute_halal_calculation': {'Halal Sales & Income': '64.87M', 'Doubtful Sales & Income': '112.05M', 'Non Halal Sales & Income': '9.74B', 'Total Revenue': '9.92B'}, 'detailed_report': {'': {'_total': '', '': ''}}, 'financial_screening': {'interest_bearing_securities_and_assets': 'Fail', 'interest_bearing_debt': 'Fail'}, 'interest_bearing_percentage': {'Short-term': '268.21%', 'Long-term': '0.00%', 'Interest-bearing securities and assets': '268.21%'}, 'interest_bearing_absolute': {'Short-term': '19.24B', 'Long-term': '0.00', 'Interest-bearing securities and assets': '19.24B'}, 'trailing_36_month_avg_market_cap': '7.17B', 'interest_bearing_debt_percentage': {'Short-term': '32.38%', 'Long-term': '0.00%', 'Total Interest-bearing debt': '32.38%'}, 'interest_bearing_debt_absolute': {'Short-term': '2.32B', 'Long-term': '0.00', 'Total Interest-bearing debt': '2.32B'}, 'compliance_history': [{'date_range': 'Jan 2024 to Dec 2024', 'report_source': '2024 Annual Report', 'status': 'NOT HALAL'}, {'date_range': 'Dec 2023 to Mar 2024', 'report_source': '2024 1st Quarter Report', 'status': 'NOT HALAL'}, {'date_range': 'Jan 2023 to Dec 2023', 'report_source': '2023 Annual Report', 'status': 'NOT HALAL'}, {'date_range': 'Dec 2022 to Sep 2023', 'report_source': '2022 3rd Quarter Report', 'status': 'NOT HALAL'}, {'date_range': 'Dec 2022 to Sep 2023', 'report_source': '2023 3rd Quarter Report', 'status': 'NOT HALAL'}, {'date_range': 'Dec 2022 to Mar 2023', 'report_source': '2023 1st Quarter Report', 'status': 'NOT HALAL'}]}\n",
      "********************\n",
      "DOHI\n",
      "DOHI not done yet\n",
      "******************************\n",
      "QLMI\n",
      "QLMI not done yet\n",
      "******************************\n",
      "QGRI\n",
      "QGRI not done yet\n",
      "******************************\n",
      "AKHI\n",
      "AKHI not done yet\n",
      "******************************\n",
      "QISI\n",
      "QISI not done yet\n",
      "******************************\n",
      "BEMA\n",
      "BEMA not done yet\n",
      "******************************\n",
      "RLE\n",
      "UDCD\n",
      "{'shariah_compliance_info_level1': {'Title': 'Shariah Compliance', 'Screening Methodology': 'AAOIFI', 'Compliance Status': 'NOT HALAL', 'Rating': 'N/A', 'Last Updated': 'March 12, 2025', 'Report Source': '2024 Annual Report', 'History Link': 'View Compliance History', 'Action Button': 'VIEW DETAILED REPORT'}, 'business_screening': {'business_activity': 'Pass'}, 'absolute_halal_calculation': {'Halal Sales & Income': '1.88B', 'Doubtful Sales & Income': '2.69M', 'Non Halal Sales & Income': '65.81M', 'Total Revenue': '1.95B'}, 'detailed_report': {'': {'_total': '', '': ''}}, 'financial_screening': {'interest_bearing_securities_and_assets': 'Fail', 'interest_bearing_debt': 'Fail'}, 'interest_bearing_percentage': {'Short-term': '34.23%', 'Long-term': '4.44%', 'Interest-bearing securities and assets': '38.67%'}, 'interest_bearing_absolute': {'Short-term': '1.47B', 'Long-term': '189.89M', 'Interest-bearing securities and assets': '1.65B'}, 'trailing_36_month_avg_market_cap': '4.28B', 'interest_bearing_debt_percentage': {'Short-term': '11.74%', 'Long-term': '105.56%', 'Total Interest-bearing debt': '117.30%'}, 'interest_bearing_debt_absolute': {'Short-term': '502.43M', 'Long-term': '4.52B', 'Total Interest-bearing debt': '5.02B'}, 'compliance_history': [{'date_range': 'Jan 2024 to Dec 2024', 'report_source': '2024 Annual Report', 'status': 'NOT HALAL'}, {'date_range': 'Dec 2023 to Jun 2024', 'report_source': '2024 2nd Quarter Report', 'status': 'NOT HALAL'}, {'date_range': 'Dec 2023 to Mar 2024', 'report_source': '2024 1st Quarter Report', 'status': 'NOT HALAL'}, {'date_range': 'Jan 2023 to Dec 2023', 'report_source': '2023 Annual Report', 'status': 'NOT HALAL'}, {'date_range': 'Dec 2022 to Sep 2023', 'report_source': '2023 3rd Quarter Report', 'status': 'NOT HALAL'}, {'date_range': 'Dec 2022 to Jun 2023', 'report_source': '2023 2nd Quarter Report', 'status': 'NOT HALAL'}, {'date_range': 'Dec 2021 to Sep 2022', 'report_source': '2022 3rd Quarter Report', 'status': 'NOT HALAL'}]}\n",
      "********************\n",
      "BRES\n",
      "BRES not done yet\n",
      "******************************\n",
      "ERES\n",
      "ERES not done yet\n",
      "******************************\n",
      "MRDS\n",
      "MRDS not done yet\n",
      "******************************\n",
      "TLE\n",
      "ORDS\n",
      "{'shariah_compliance_info_level1': {'Title': 'Shariah Compliance', 'Screening Methodology': 'AAOIFI', 'Compliance Status': 'NOT HALAL', 'Rating': 'N/A', 'Last Updated': 'March 12, 2025', 'Report Source': '2024 Annual Report', 'History Link': 'View Compliance History', 'Action Button': 'VIEW DETAILED REPORT'}, 'business_screening': {'business_activity': 'Pass'}, 'absolute_halal_calculation': {'Halal Sales & Income': '24.04B', 'Doubtful Sales & Income': '289.15M', 'Non Halal Sales & Income': '504.41M', 'Total Revenue': '24.83B'}, 'detailed_report': {'': {'_total': '', '': ''}}, 'financial_screening': {'interest_bearing_securities_and_assets': 'Fail', 'interest_bearing_debt': 'Fail'}, 'interest_bearing_percentage': {'Short-term': '51.57%', 'Long-term': '0.00%', 'Interest-bearing securities and assets': '51.57%'}, 'interest_bearing_absolute': {'Short-term': '16.93B', 'Long-term': '0.00', 'Interest-bearing securities and assets': '16.93B'}, 'trailing_36_month_avg_market_cap': '32.83B', 'interest_bearing_debt_percentage': {'Short-term': '11.58%', 'Long-term': '43.31%', 'Total Interest-bearing debt': '54.89%'}, 'interest_bearing_debt_absolute': {'Short-term': '3.80B', 'Long-term': '14.22B', 'Total Interest-bearing debt': '18.02B'}, 'compliance_history': [{'date_range': 'Jan 2024 to Dec 2024', 'report_source': '2024 Annual Report', 'status': 'NOT HALAL'}, {'date_range': 'Dec 2023 to Jun 2024', 'report_source': '2024 2nd Quarter Report', 'status': 'NOT HALAL'}, {'date_range': 'Dec 2023 to Mar 2024', 'report_source': '2024 1st Quarter Report', 'status': 'NOT HALAL'}, {'date_range': 'Jan 2023 to Dec 2023', 'report_source': '2023 Annual Report', 'status': 'NOT HALAL'}, {'date_range': 'Dec 2022 to Sep 2023', 'report_source': '2023 3rd Quarter Report', 'status': 'NOT HALAL'}, {'date_range': 'Dec 2022 to Mar 2023', 'report_source': '2023 1st Quarter Report', 'status': 'NOT HALAL'}]}\n",
      "********************\n",
      "VFQS\n",
      "VFQS not done yet\n",
      "******************************\n",
      "TRN\n",
      "QNNS\n",
      "{'shariah_compliance_info_level1': {'Title': 'Shariah Compliance', 'Screening Methodology': 'AAOIFI', 'Compliance Status': 'NOT HALAL', 'Rating': 'N/A', 'Last Updated': 'March 12, 2025', 'Report Source': '2024 Annual Report', 'History Link': 'View Compliance History', 'Action Button': 'VIEW DETAILED REPORT'}, 'business_screening': {'business_activity': 'Fail'}, 'absolute_halal_calculation': {'Halal Sales & Income': '3.32B', 'Doubtful Sales & Income': '167.19M', 'Non Halal Sales & Income': '383.57M', 'Total Revenue': '3.87B'}, 'detailed_report': {'': {'_total': '', '': '', 'Milaha offshore': '1.47B', 'Milaha trading': '76.43M', 'Milaha gas and petrochem': '246.49M'}, 'Doubtful Revenue': {'_total': '167.19M', 'Dividend income': '167.19M'}, 'Not Halal Revenue': {'_total': '105.19M', 'Interest on bonds and deposits': '105.19M'}, 'Halal Income': {'_total': '751.48M', 'Reversal of impairment of receivables': '15.31M', 'Net gain on disposal of property, vessels and equipment': '7.61M', 'Share of results of joint ventures': '143.65M', 'Share of results of associates': '584.90M'}, 'Not Halal Income': {'_total': '278.38M', 'Finance income': '11.42M', 'Equity-accounted investees – share of hedging reserves': '266.96M'}}, 'financial_screening': {'interest_bearing_securities_and_assets': 'Pass', 'interest_bearing_debt': 'Pass'}, 'interest_bearing_percentage': {'Short-term': '6.69%', 'Long-term': '9.15%', 'Interest-bearing securities and assets': '15.84%'}, 'interest_bearing_absolute': {'Short-term': '771.37M', 'Long-term': '1.05B', 'Interest-bearing securities and assets': '1.83B'}, 'trailing_36_month_avg_market_cap': '11.53B', 'interest_bearing_debt_percentage': {'Short-term': '2.07%', 'Long-term': '4.66%', 'Total Interest-bearing debt': '6.73%'}, 'interest_bearing_debt_absolute': {'Short-term': '238.40M', 'Long-term': '537.34M', 'Total Interest-bearing debt': '775.74M'}, 'compliance_history': [{'date_range': 'Jan 2024 to Dec 2024', 'report_source': '2024 Annual Report', 'status': 'NOT HALAL'}, {'date_range': 'Jan 2024 to Sep 2024', 'report_source': '2024 3rd Quarter Report', 'status': 'DOUBTFUL'}, {'date_range': 'Sep 2023 to Jun 2024', 'report_source': '2024 2nd Quarter Report', 'status': 'DOUBTFUL'}, {'date_range': 'Dec 2023 to Mar 2024', 'report_source': '2024 1st Quarter Report', 'status': 'NOT HALAL'}, {'date_range': 'Jan 2023 to Dec 2023', 'report_source': '2023 Annual Report', 'status': 'DOUBTFUL'}, {'date_range': 'Dec 2022 to Sep 2023', 'report_source': '2023 3rd Quarter Report', 'status': 'HALAL'}, {'date_range': 'Dec 2022 to Mar 2023', 'report_source': '2023 1st Quarter Report', 'status': 'HALAL'}, {'date_range': 'Dec 2021 to Sep 2022', 'report_source': '2022 3rd Quarter Report', 'status': 'HALAL'}]}\n",
      "********************\n",
      "GWCS\n",
      "GWCS not done yet\n",
      "******************************\n",
      "QGTS\n",
      "QGTS not done yet\n",
      "******************************\n"
     ]
    }
   ],
   "source": [
    "for categ,compans in config.qat_company_categorised.items():\n",
    "    print(categ)\n",
    "    for company_name in compans:\n",
    "        print(company_name)\n",
    "        if not os.path.isfile(f\"reports/{company_name.replace('.', '_')}.pkl\"):\n",
    "            print(company_name, \"not done yet\")\n",
    "            print(\"*\"*30)\n",
    "            continue \n",
    "        with open(f\"reports/{company_name.replace('.', '_')}.pkl\", \"rb\") as f:\n",
    "            data = pickle.load(f)\n",
    "            print(data)\n",
    "            print(\"*\"*20)\n",
    "        \n"
   ]
  },
  {
   "cell_type": "code",
   "execution_count": 31,
   "id": "58bcc54a-6683-4a6a-9b00-3b065b85e884",
   "metadata": {},
   "outputs": [
    {
     "name": "stdout",
     "output_type": "stream",
     "text": [
      "{'shariah_compliance_info_level1': {'Title': 'Shariah Compliance', 'Screening Methodology': 'AAOIFI', 'Compliance Status': 'NOT HALAL', 'Rating': 'N/A', 'Last Updated': 'March 12, 2025', 'Report Source': '2024 Annual Report', 'History Link': 'View Compliance History', 'Action Button': 'VIEW DETAILED REPORT'}, 'business_screening': {'business_activity': 'Fail'}, 'absolute_halal_calculation': {'Halal Sales & Income': '218.66M', 'Doubtful Sales & Income': '2.31B', 'Non Halal Sales & Income': '10.58B', 'Total Revenue': '13.10B'}, 'detailed_report': {'Halal Income': {'_total': '218.66M', 'Rental income': '107.35M', 'Gain on revaluation on land and buildings': '111.31M'}, 'Doubtful Income': {'_total': '2.31B', 'Fee and commission income': '1.61B', 'Net change in fair-value of investment securities': '24.76M', 'Dividend income': '230.84M', 'Net impairment reversals on other financial assets': '97.28M', 'Share of results of associates and a joint arrangement': '329.74M', 'Share of other comprehensive income of investment in associates and a joint arrangement': '5.69M', 'Net change in fair value of equity investments at FVOCI': '4.96M'}, 'Not Halal Income': {'_total': '10.58B', 'Interest income': '9.45B', 'Net gain on disposal of investment securities measured at fair value': '6.07M', 'Net derivative fair value': '73.04M', 'Net impairment reversals on investment securities': '22.04M', 'Effect of hyperinflation impact': '866.34M', 'Net movement in cash flow hedge reserve': '157.84M'}}, 'financial_screening': {'interest_bearing_securities_and_assets': 'Fail', 'interest_bearing_debt': 'Fail'}, 'interest_bearing_percentage': {'Short-term': '129.17%', 'Long-term': '568.94%', 'Interest-bearing securities and assets': '698.11%'}, 'interest_bearing_absolute': {'Short-term': '28.01B', 'Long-term': '123.38B', 'Interest-bearing securities and assets': '151.40B'}, 'trailing_36_month_avg_market_cap': '21.69B', 'interest_bearing_debt_percentage': {'Short-term': '451.19%', 'Long-term': '163.53%', 'Total Interest-bearing debt': '614.72%'}, 'interest_bearing_debt_absolute': {'Short-term': '97.85B', 'Long-term': '35.46B', 'Total Interest-bearing debt': '133.31B'}, 'compliance_history': [{'date_range': 'Jan 2024 to Dec 2024', 'report_source': '2024 Annual Report', 'status': 'NOT HALAL'}, {'date_range': 'Dec 2023 to Jun 2024', 'report_source': '2024 2nd Quarter Report', 'status': 'NOT HALAL'}, {'date_range': 'Dec 2023 to Mar 2024', 'report_source': '2024 1st Quarter Report', 'status': 'NOT HALAL'}, {'date_range': 'Jan 2023 to Dec 2023', 'report_source': '2023 Annual Report', 'status': 'NOT HALAL'}, {'date_range': 'Dec 2022 to Sep 2023', 'report_source': '2023 3rd Quarter Report', 'status': 'NOT HALAL'}, {'date_range': 'Dec 2022 to Mar 2023', 'report_source': '2023 1st Quarter Report', 'status': 'NOT HALAL'}, {'date_range': 'Dec 2021 to Sep 2022', 'report_source': '2022 3rd Quarter Report', 'status': 'NOT HALAL'}]}\n"
     ]
    }
   ],
   "source": [
    "company_name=\"CBQK\"\n",
    "with open(f\"reports/{company_name.replace('.', '_')}.pkl\", \"rb\") as f:\n",
    "    data = pickle.load(f)\n",
    "    print(data)"
   ]
  },
  {
   "cell_type": "code",
   "execution_count": 27,
   "id": "8c69987b-f3b8-4ea8-ac76-385a0bb15edd",
   "metadata": {},
   "outputs": [
    {
     "data": {
      "text/plain": [
       "{'Doubtful Income': {'_total': '121.09M',\n",
       "  'Brokerage fees': '2.19M',\n",
       "  'Banking services': '15.41M',\n",
       "  'Commission on unfunded facilities': '39.64M',\n",
       "  'Others': '5.46M',\n",
       "  'Foreign exchange gain': '48.14M',\n",
       "  'Dividend income': '10.26M'},\n",
       " 'Not Halal Income': {'_total': '3.64B',\n",
       "  'Interest income': '3.54B',\n",
       "  'Credit related fees': '77.79M',\n",
       "  'Net change in fair value of debt instruments': '20.61M'}}"
      ]
     },
     "execution_count": 27,
     "metadata": {},
     "output_type": "execute_result"
    }
   ],
   "source": [
    "data[\"detailed_report\"]"
   ]
  },
  {
   "cell_type": "code",
   "execution_count": 28,
   "id": "db9b58b0-51af-44bf-b4ec-9a24e23d8dd0",
   "metadata": {},
   "outputs": [
    {
     "data": {
      "text/plain": [
       "{'Short-term': '49.57B',\n",
       " 'Long-term': '944.94M',\n",
       " 'Interest-bearing securities and assets': '50.52B'}"
      ]
     },
     "execution_count": 28,
     "metadata": {},
     "output_type": "execute_result"
    }
   ],
   "source": [
    "data['interest_bearing_absolute']"
   ]
  },
  {
   "cell_type": "code",
   "execution_count": 29,
   "id": "97281503-503b-406d-a020-f633c440400d",
   "metadata": {},
   "outputs": [
    {
     "data": {
      "text/plain": [
       "{'Short-term': '49.57B',\n",
       " 'Long-term': '944.94M',\n",
       " 'Interest-bearing securities and assets': '50.52B'}"
      ]
     },
     "execution_count": 29,
     "metadata": {},
     "output_type": "execute_result"
    }
   ],
   "source": [
    "data['interest_bearing_absolute']"
   ]
  },
  {
   "cell_type": "code",
   "execution_count": 30,
   "id": "b53cd5d0-0b5d-424b-a0ac-6ffe4e782125",
   "metadata": {},
   "outputs": [
    {
     "data": {
      "text/plain": [
       "dict_keys(['shariah_compliance_info_level1', 'business_screening', 'absolute_halal_calculation', 'detailed_report', 'financial_screening', 'interest_bearing_percentage', 'interest_bearing_absolute', 'trailing_36_month_avg_market_cap', 'interest_bearing_debt_percentage', 'interest_bearing_debt_absolute', 'compliance_history'])"
      ]
     },
     "execution_count": 30,
     "metadata": {},
     "output_type": "execute_result"
    }
   ],
   "source": [
    "data.keys()"
   ]
  },
  {
   "cell_type": "code",
   "execution_count": null,
   "id": "b8e27f21-27df-47ca-8cb8-51fd291815ae",
   "metadata": {},
   "outputs": [],
   "source": []
  }
 ],
 "metadata": {
  "kernelspec": {
   "display_name": "py310k",
   "language": "python",
   "name": "py310k"
  },
  "language_info": {
   "codemirror_mode": {
    "name": "ipython",
    "version": 3
   },
   "file_extension": ".py",
   "mimetype": "text/x-python",
   "name": "python",
   "nbconvert_exporter": "python",
   "pygments_lexer": "ipython3",
   "version": "3.10.16"
  }
 },
 "nbformat": 4,
 "nbformat_minor": 5
}
