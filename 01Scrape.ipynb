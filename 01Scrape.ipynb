{
 "cells": [
  {
   "cell_type": "code",
   "execution_count": null,
   "id": "0d4b4331-dcd1-4825-be18-f770b30f27d9",
   "metadata": {},
   "outputs": [],
   "source": [
    "import sys\n",
    "sys.path.append(\"/Users/dr.ashhadulislam/projects/social/musaffaScraper\")\n",
    "import config\n",
    "from selenium.webdriver.common.keys import Keys\n",
    "from selenium.webdriver.common.by import By\n",
    "from selenium.webdriver.support.ui import WebDriverWait\n",
    "from selenium.webdriver.support import expected_conditions as EC\n",
    "\n",
    "from selenium.webdriver.common.action_chains import ActionChains\n",
    "from selenium.webdriver.common.by import By\n",
    "from selenium.webdriver.support.ui import WebDriverWait\n",
    "from selenium.webdriver.support import expected_conditions as EC\n",
    "import pickle\n"
   ]
  },
  {
   "cell_type": "code",
   "execution_count": null,
   "id": "5873958a-09f1-4aa7-bf9e-7ed220be2322",
   "metadata": {},
   "outputs": [],
   "source": [
    "print(config.qat_company_categorised)"
   ]
  },
  {
   "cell_type": "code",
   "execution_count": null,
   "id": "7b50be77-b8f1-418c-9eff-78351e05be69",
   "metadata": {},
   "outputs": [],
   "source": [
    "print(config.qat_categories)"
   ]
  },
  {
   "cell_type": "code",
   "execution_count": null,
   "id": "d5b33cdd-1a4b-46b2-9f04-32140f5c7546",
   "metadata": {},
   "outputs": [],
   "source": [
    "import os\n",
    "import time\n",
    "import pandas as pd\n",
    "from selenium.webdriver.common.by import By\n",
    "from selenium.webdriver.support.ui import WebDriverWait\n",
    "from selenium.webdriver.support import expected_conditions as EC\n",
    "\n",
    "from selenium import webdriver\n",
    "from selenium.webdriver.firefox.options import Options\n",
    "from selenium.webdriver.common.by import By\n",
    "from selenium.webdriver.support.ui import WebDriverWait\n",
    "from selenium.webdriver.support import expected_conditions as EC\n",
    "import time\n",
    "import pandas as pd\n",
    "\n",
    "from selenium.common.exceptions import TimeoutException, NoSuchElementException, ElementClickInterceptedException\n",
    "\n",
    "\n",
    "\n",
    "# Setup Firefox (headless optional)\n",
    "options = Options()\n",
    "# options.add_argument(\"--headless\")  # remove this if you want to see the browser\n",
    "\n",
    "driver = webdriver.Firefox(options=options)\n",
    "\n"
   ]
  },
  {
   "cell_type": "code",
   "execution_count": null,
   "id": "409d0292-5ec1-49d4-8800-d7a4228770bd",
   "metadata": {},
   "outputs": [],
   "source": [
    "driver.get(\"https://musaffa.com/authentication/login\")\n",
    "\n",
    "# Wait for the markers to appear (wait up to 10 seconds)\n",
    "wait = WebDriverWait(driver, 10)"
   ]
  },
  {
   "cell_type": "code",
   "execution_count": null,
   "id": "0bf0a27a-be09-4155-92f8-e0b2e403f5dc",
   "metadata": {},
   "outputs": [],
   "source": [
    "# sign_in_button = driver.find_element(By.LINK_TEXT, \"Sign In\")"
   ]
  },
  {
   "cell_type": "code",
   "execution_count": null,
   "id": "47936a83-9bf8-4e9d-a9c4-9627f63a9027",
   "metadata": {},
   "outputs": [],
   "source": [
    "# sign_in_button.click()"
   ]
  },
  {
   "cell_type": "code",
   "execution_count": null,
   "id": "24135187-0e8d-4901-90f5-a03216fdf7c8",
   "metadata": {},
   "outputs": [],
   "source": [
    "\n",
    "email_id = driver.find_element(By.ID, \"email\")\n",
    "email_id.clear()\n",
    "email_id.send_keys(\"fazlursyarif77@gmail.com\")\n",
    "\n",
    "passwd = driver.find_element(By.ID, \"password\")\n",
    "passwd.clear()\n",
    "passwd.send_keys(\"Bismillah@123.\")\n",
    "login_button = driver.find_element(By.CSS_SELECTOR, \"button[type='submit']\")\n",
    "time.sleep(3)\n",
    "login_button.click()"
   ]
  },
  {
   "cell_type": "code",
   "execution_count": null,
   "id": "3f5418fe-6aaa-4c6f-9d5c-600b942cfad9",
   "metadata": {},
   "outputs": [],
   "source": [
    "## considering that we logged in and we have a subscription\n",
    "## we want to get the first level shariah compliance info"
   ]
  },
  {
   "cell_type": "code",
   "execution_count": null,
   "id": "4033d7a6-5448-484a-ba11-aafd2ba88bf3",
   "metadata": {},
   "outputs": [],
   "source": [
    "company_name=\"QEWS.QA\"\n",
    "\n",
    "\n",
    "\n",
    "url=f\"https://musaffa.com/stock/{company_name}\"\n",
    "driver.get(url)\n",
    "\n",
    "# Wait for the markers to appear (wait up to 10 seconds)\n",
    "wait = WebDriverWait(driver, 10)\n"
   ]
  },
  {
   "cell_type": "code",
   "execution_count": null,
   "id": "bafc65ad-4e64-4442-96f4-fab46ecc916a",
   "metadata": {},
   "outputs": [],
   "source": [
    "shariah_compliance_info_level1 = {}\n",
    "\n",
    "try:\n",
    "    # Title\n",
    "    shariah_compliance_info_level1[\"Title\"] = driver.find_element(By.CSS_SELECTOR, \"h4.header-h4\").text.strip()\n",
    "\n",
    "    # Screening Methodology\n",
    "    shariah_compliance_info_level1[\"Screening Methodology\"] = driver.find_element(By.CSS_SELECTOR, \".header-para span.fw-600\").text.strip()\n",
    "\n",
    "    # Compliance Status (HALAL / NOT HALAL)\n",
    "    status_element = driver.find_elements(By.CSS_SELECTOR, \".compliance-chip h5.status-text\")\n",
    "    shariah_compliance_info_level1[\"Compliance Status\"] = status_element[0].text.strip() if status_element else \"N/A\"\n",
    "\n",
    "    # Rating (optional)\n",
    "    rating_element = driver.find_elements(By.CSS_SELECTOR, \".rating_grade_status\")\n",
    "    shariah_compliance_info_level1[\"Rating\"] = rating_element[0].text.strip() if rating_element else \"N/A\"\n",
    "\n",
    "    # Last Updated (optional)\n",
    "    updated_element = driver.find_elements(By.XPATH, \"//p[contains(text(), 'Last Updated')]/span\")\n",
    "    shariah_compliance_info_level1[\"Last Updated\"] = updated_element[0].text.strip() if updated_element else \"N/A\"\n",
    "\n",
    "    # Report Source (optional)\n",
    "    report_source_element = driver.find_elements(By.XPATH, \"//p[contains(text(), 'Report Source')]/span\")\n",
    "    shariah_compliance_info_level1[\"Report Source\"] = report_source_element[0].text.strip() if report_source_element else \"N/A\"\n",
    "\n",
    "    # View Compliance History Button (optional)\n",
    "    try:\n",
    "        history_btn = driver.find_element(By.XPATH, \"//button//span[contains(text(), 'View Compliance History')]\")\n",
    "        shariah_compliance_info_level1[\"History Link\"] = history_btn.text.strip()\n",
    "    except:\n",
    "        shariah_compliance_info_level1[\"History Link\"] = \"N/A\"\n",
    "\n",
    "    # Action Button (optional)\n",
    "    try:\n",
    "        action_btn = driver.find_element(By.CSS_SELECTOR, \"button.card-btn span\")\n",
    "        shariah_compliance_info_level1[\"Action Button\"] = action_btn.text.strip()\n",
    "    except:\n",
    "        shariah_compliance_info_level1[\"Action Button\"] = \"N/A\"\n",
    "\n",
    "except Exception as e:\n",
    "    shariah_compliance_info_level1[\"Error\"] = str(e)\n",
    "\n",
    "print(shariah_compliance_info_level1)"
   ]
  },
  {
   "cell_type": "code",
   "execution_count": null,
   "id": "30271411-c1ef-4162-ae19-91d6c8cea02a",
   "metadata": {},
   "outputs": [],
   "source": [
    "## click on view detailed report"
   ]
  },
  {
   "cell_type": "code",
   "execution_count": null,
   "id": "9f2a456b-43fc-4dbc-a32b-9ce0359eafdd",
   "metadata": {},
   "outputs": [],
   "source": []
  },
  {
   "cell_type": "code",
   "execution_count": null,
   "id": "ff6fc3b3-367f-4e8d-b313-043502c5fab6",
   "metadata": {},
   "outputs": [],
   "source": [
    "try:\n",
    "    # Wait for the button to be visible and clickable\n",
    "    button = WebDriverWait(driver, 10).until(\n",
    "        EC.element_to_be_clickable((By.XPATH, \"//button[normalize-space(text())='Shariah Compliance Report']\"))\n",
    "    )\n",
    "\n",
    "    # Scroll into view and click\n",
    "    driver.execute_script(\"arguments[0].scrollIntoView({behavior: 'smooth', block: 'center'});\", button)\n",
    "    WebDriverWait(driver, 2).until(EC.element_to_be_clickable((By.XPATH, \"//button[normalize-space(text())='Shariah Compliance Report']\")))\n",
    "    button.click()\n",
    "    print(\"Clicked 'Shariah Compliance Report' button.\")\n",
    "\n",
    "except Exception as e:\n",
    "    print(\"Failed to click 'Shariah Compliance Report' button:\", e)"
   ]
  },
  {
   "cell_type": "markdown",
   "id": "63651775-cb7a-475b-8cfc-a9702499f82c",
   "metadata": {},
   "source": [
    "# Detail report"
   ]
  },
  {
   "cell_type": "markdown",
   "id": "2c7d0c04-f5f3-48fa-94ad-89c6597177fc",
   "metadata": {},
   "source": [
    "## Business screening"
   ]
  },
  {
   "cell_type": "markdown",
   "id": "a016168b-ce17-469d-98e6-c675d65d2dca",
   "metadata": {},
   "source": [
    "### Business activity"
   ]
  },
  {
   "cell_type": "code",
   "execution_count": null,
   "id": "03ffabca-4494-464f-90c2-1f2aa39dfd20",
   "metadata": {},
   "outputs": [],
   "source": [
    "time.sleep(3)\n",
    "# Locate the Business Activity tab\n",
    "business_activity_tab = driver.find_element(\n",
    "    By.XPATH,\n",
    "    \"//a[contains(@class, 'tab-btn') and .//span[text()='Business Activity']]\"\n",
    ")\n",
    "\n",
    "# Get the status text (e.g., \"Pass\" or \"Fail\")\n",
    "status_text = business_activity_tab.find_element(By.CLASS_NAME, \"tabs-badge\").text.strip()\n",
    "\n",
    "# Store in dictionary\n",
    "business_screening = {\n",
    "    \"business_activity\": status_text  # \"Pass\" or \"Fail\"\n",
    "}\n",
    "\n",
    "# Print result\n",
    "print(business_screening)"
   ]
  },
  {
   "cell_type": "markdown",
   "id": "5fe24fb8-bd8f-4ef1-a88f-f5b9a93f4d4d",
   "metadata": {},
   "source": [
    "### get the absolute values"
   ]
  },
  {
   "cell_type": "markdown",
   "id": "4844895d-0339-4f91-9370-b39f61709157",
   "metadata": {},
   "source": [
    "### click on calculation drop down"
   ]
  },
  {
   "cell_type": "code",
   "execution_count": null,
   "id": "995bf17a-4ef1-48ca-b3cb-2ee80f32b42a",
   "metadata": {},
   "outputs": [],
   "source": [
    "# driver.find_element(By.TAG_NAME, 'body').send_keys(Keys.SPACE)\n",
    "# # Wait until the button is clickable\n",
    "# try:\n",
    "#     calc_dropdown_btn = WebDriverWait(driver, 10).until(\n",
    "#         EC.element_to_be_clickable((\n",
    "#             By.XPATH, \"//button[.//span[text()='Calculation']]\"\n",
    "#         ))\n",
    "#     )\n",
    "#     calc_dropdown_btn.click()\n",
    "#     print(\"Calculation dropdown clicked.\")\n",
    "# except Exception as e:\n",
    "#     print(\"Failed to click Calculation dropdown:\", e)\n",
    "\n",
    "try:\n",
    "    # Wait for element to be present\n",
    "    calc_dropdown_btn = WebDriverWait(driver, 10).until(\n",
    "        EC.presence_of_element_located((\n",
    "            By.XPATH, \"//button[.//span[text()='Calculation']]\"\n",
    "        ))\n",
    "    )\n",
    "\n",
    "    # Scroll it into view (align to center)\n",
    "    driver.execute_script(\"arguments[0].scrollIntoView({behavior: 'smooth', block: 'center'});\", calc_dropdown_btn)\n",
    "\n",
    "    # Wait briefly for scroll to complete/rendering\n",
    "    WebDriverWait(driver, 2).until(EC.element_to_be_clickable((\n",
    "        By.XPATH, \"//button[.//span[text()='Calculation']]\"\n",
    "    )))\n",
    "\n",
    "    # Click using JavaScript (bypasses viewport issues)\n",
    "    driver.execute_script(\"arguments[0].click();\", calc_dropdown_btn)\n",
    "    print(\"Calculation dropdown clicked via JS.\")\n",
    "\n",
    "except Exception as e:\n",
    "    print(\"Failed to click Calculation dropdown:\", e)"
   ]
  },
  {
   "cell_type": "code",
   "execution_count": null,
   "id": "ab81bdad-b6c2-43d3-953b-83ba9338cf58",
   "metadata": {},
   "outputs": [],
   "source": [
    "time.sleep(3)\n",
    "switch = driver.find_element(By.CSS_SELECTOR, \"label.toggle-switch\")\n",
    "switch.click()"
   ]
  },
  {
   "cell_type": "code",
   "execution_count": null,
   "id": "1d49bf64-7ff8-4eb9-9024-ca8a9876eaed",
   "metadata": {},
   "outputs": [],
   "source": [
    "# Wait for the content to load\n",
    "WebDriverWait(driver, 10).until(\n",
    "    EC.presence_of_all_elements_located((By.CLASS_NAME, \"calculation-line-item-title\"))\n",
    ")\n",
    "\n",
    "# Build the dictionary\n",
    "absolute_halal_calculation = {\n",
    "    \"Halal Sales & Income\": driver.find_element(By.XPATH, \"//p[contains(text(), 'Halal Sales')]/following-sibling::span\").text.strip(),\n",
    "    \"Doubtful Sales & Income\": driver.find_element(By.XPATH, \"//p[contains(text(), 'Doubtful Sales')]/following-sibling::span\").text.strip(),\n",
    "    \"Non Halal Sales & Income\": driver.find_element(By.XPATH, \"//p[contains(text(), 'Non Halal Sales')]/following-sibling::span\").text.strip(),\n",
    "    \"Total Revenue\": driver.find_element(By.XPATH, \"//p[contains(text(), 'Total Revenue')]/following-sibling::span\").text.strip(),\n",
    "}\n",
    "\n",
    "print(absolute_halal_calculation)"
   ]
  },
  {
   "cell_type": "markdown",
   "id": "4281b4bc-96d3-43da-b2e7-5ec8efcde1d4",
   "metadata": {},
   "source": [
    "### click on detailed report"
   ]
  },
  {
   "cell_type": "code",
   "execution_count": null,
   "id": "8e19362d-e77e-4430-826c-0fb8336e3662",
   "metadata": {},
   "outputs": [],
   "source": [
    "try:\n",
    "    # Wait for element to be present\n",
    "    calc_dropdown_btn = WebDriverWait(driver, 10).until(\n",
    "        EC.presence_of_element_located((\n",
    "            By.XPATH, \"//button[.//span[text()='Detailed Report']]\"\n",
    "        ))\n",
    "    )\n",
    "\n",
    "    # Scroll it into view (align to center)\n",
    "    driver.execute_script(\"arguments[0].scrollIntoView({behavior: 'smooth', block: 'center'});\", calc_dropdown_btn)\n",
    "\n",
    "    # Wait briefly for scroll to complete/rendering\n",
    "    WebDriverWait(driver, 2).until(EC.element_to_be_clickable((\n",
    "        By.XPATH, \"//button[.//span[text()='Detailed Report']]\"\n",
    "    )))\n",
    "\n",
    "    # Click using JavaScript (bypasses viewport issues)\n",
    "    driver.execute_script(\"arguments[0].click();\", calc_dropdown_btn)\n",
    "    print(\"Detailed Report dropdown clicked via JS.\")\n",
    "\n",
    "except Exception as e:\n",
    "    print(\"Failed to click Detailed Report dropdown:\", e)"
   ]
  },
  {
   "cell_type": "code",
   "execution_count": null,
   "id": "ab0e984e-de01-457d-828f-24da7ee581a8",
   "metadata": {},
   "outputs": [],
   "source": [
    "# time.sleep(2)\n",
    "# driver.find_element(By.TAG_NAME, 'body').send_keys(Keys.SPACE)\n",
    "# try:\n",
    "#     calc_dropdown_btn = WebDriverWait(driver, 10).until(\n",
    "#         EC.element_to_be_clickable((\n",
    "#             By.XPATH, \"//button[.//span[text()='Detailed Report']]\"\n",
    "#         ))\n",
    "#     )\n",
    "#     calc_dropdown_btn.click()\n",
    "#     print(\"Detailed Report clicked.\")\n",
    "# except Exception as e:\n",
    "#     print(\"Failed to click Detailed Report:\", e)"
   ]
  },
  {
   "cell_type": "code",
   "execution_count": null,
   "id": "c80d697c-6c8e-4e25-9999-e963b500193b",
   "metadata": {},
   "outputs": [],
   "source": [
    "# Find all income blocks\n",
    "blocks = driver.find_elements(By.CSS_SELECTOR, \"div.breakdown-card\")\n"
   ]
  },
  {
   "cell_type": "code",
   "execution_count": null,
   "id": "493851f9-d590-4db2-a36c-518171ee8eab",
   "metadata": {},
   "outputs": [],
   "source": [
    "detailed_report = {}\n",
    "\n",
    "for block in blocks:\n",
    "    # Get the top-level label (e.g., Halal Revenue)\n",
    "    title = block.find_element(By.CSS_SELECTOR, \"span.title\").text.strip()\n",
    "    total = block.find_element(By.CSS_SELECTOR, \"span.percent\").text.strip()\n",
    "\n",
    "    detailed_report[title] = {\"_total\": total}\n",
    "\n",
    "    # Look for all breakdown buttons\n",
    "    buttons = block.find_elements(By.CSS_SELECTOR, \"button[ngbpaneltoggle]\")\n",
    "\n",
    "    for btn in buttons:\n",
    "        try:\n",
    "            sub_label = btn.find_element(By.CLASS_NAME, \"accordion-btn-title\").text.strip()\n",
    "            sub_value = btn.find_element(By.CLASS_NAME, \"accordion-btn-val\").text.strip()\n",
    "            detailed_report[title][sub_label] = sub_value\n",
    "        except:\n",
    "            continue  # Skip if any part is missing\n",
    "\n",
    "\n",
    "\n"
   ]
  },
  {
   "cell_type": "code",
   "execution_count": null,
   "id": "4aa01c87-d907-4fe0-82b8-dcb3469d6fd3",
   "metadata": {},
   "outputs": [],
   "source": [
    "print(detailed_report)"
   ]
  },
  {
   "cell_type": "markdown",
   "id": "dd3044a2-a656-467a-b205-813eeac8f71a",
   "metadata": {},
   "source": [
    "## End of Business Screening"
   ]
  },
  {
   "cell_type": "markdown",
   "id": "124b49ee-ee0b-4153-81bb-24fd8547fd76",
   "metadata": {},
   "source": [
    "## Financial Screening"
   ]
  },
  {
   "cell_type": "code",
   "execution_count": null,
   "id": "07ff4c28-b97b-4650-8a1d-c658a8653784",
   "metadata": {},
   "outputs": [],
   "source": [
    "# Find all tabs\n",
    "tabs = driver.find_elements(By.CSS_SELECTOR, \"a.tab-btn\")\n",
    "\n",
    "# Initialize dictionary\n",
    "financial_screening = {}\n",
    "\n",
    "# Loop through the tabs to find the ones related to Financial Screening\n",
    "for tab in tabs:\n",
    "    label = tab.text.lower()\n",
    "    status = tab.find_element(By.CLASS_NAME, \"tabs-badge\").text.strip()\n",
    "    \n",
    "    if \"interest-bearing\" in label and \"securities\" in label:\n",
    "        financial_screening[\"interest_bearing_securities_and_assets\"] = status\n",
    "    elif \"interest-bearing\" in label and \"debt\" in label:\n",
    "        financial_screening[\"interest_bearing_debt\"] = status\n",
    "\n",
    "# Print result\n",
    "print(financial_screening)"
   ]
  },
  {
   "cell_type": "markdown",
   "id": "70dc0118-58ad-4aef-b411-ec2c5b0ebd66",
   "metadata": {},
   "source": [
    "### interest bearing securities and assets"
   ]
  },
  {
   "cell_type": "code",
   "execution_count": null,
   "id": "e06fb183-63ed-4915-9be6-710c398325d0",
   "metadata": {},
   "outputs": [],
   "source": [
    "time.sleep(1)\n",
    "driver.find_element(By.TAG_NAME, 'body').send_keys(Keys.HOME)\n",
    "time.sleep(2)\n",
    "buttons = driver.find_elements(By.CSS_SELECTOR, \"a.tab-btn\")\n",
    "for btn in buttons:\n",
    "    if \"Interest-bearing\" in btn.text and \"securities\" in btn.text:\n",
    "        btn.click()\n",
    "        break"
   ]
  },
  {
   "cell_type": "code",
   "execution_count": null,
   "id": "0fd0ae9b-941f-40f9-8434-8c9e1112cc2a",
   "metadata": {},
   "outputs": [],
   "source": [
    "try:\n",
    "    # Wait for element to be present\n",
    "    calc_dropdown_btn = WebDriverWait(driver, 10).until(\n",
    "        EC.presence_of_element_located((\n",
    "            By.XPATH, \"//button[.//span[text()='Calculation']]\"\n",
    "        ))\n",
    "    )\n",
    "\n",
    "    # Scroll it into view (align to center)\n",
    "    driver.execute_script(\"arguments[0].scrollIntoView({behavior: 'smooth', block: 'center'});\", calc_dropdown_btn)\n",
    "\n",
    "    # Wait briefly for scroll to complete/rendering\n",
    "    WebDriverWait(driver, 2).until(EC.element_to_be_clickable((\n",
    "        By.XPATH, \"//button[.//span[text()='Calculation']]\"\n",
    "    )))\n",
    "\n",
    "    # Click using JavaScript (bypasses viewport issues)\n",
    "    driver.execute_script(\"arguments[0].click();\", calc_dropdown_btn)\n",
    "    print(\"Calculation dropdown clicked via JS.\")\n",
    "\n",
    "except Exception as e:\n",
    "    print(\"Failed to click Calculation dropdown:\", e)"
   ]
  },
  {
   "cell_type": "code",
   "execution_count": null,
   "id": "f0cdfed8-1ac6-42c6-a412-48e709d1dad6",
   "metadata": {},
   "outputs": [],
   "source": [
    "# Initialize the result dictionary\n",
    "time.sleep(3)\n",
    "interest_bearing_percentage = {}\n",
    "\n",
    "# Find all blocks containing interest-bearing calculation lines\n",
    "blocks = driver.find_elements(By.CSS_SELECTOR, \"div.col-md-6\")\n",
    "\n",
    "for block in blocks:\n",
    "    titles = block.find_elements(By.CSS_SELECTOR, \".calculation-line-item-title\")\n",
    "    values = block.find_elements(By.CSS_SELECTOR, \".calculation-line-item-val\")\n",
    "\n",
    "    if len(titles) == 3 and \"Interest-bearing securities and assets\" in titles[2].text:\n",
    "        interest_bearing_percentage = {\n",
    "            titles[0].text.strip(): values[0].text.strip(),\n",
    "            titles[1].text.strip(): values[1].text.strip(),\n",
    "            titles[2].text.strip(): values[2].text.strip()\n",
    "        }\n",
    "        break  # Exit loop once found\n",
    "\n",
    "print(interest_bearing_percentage)"
   ]
  },
  {
   "cell_type": "code",
   "execution_count": null,
   "id": "d3c840d3-26dd-4f7e-9ffd-005bd7fe7dbd",
   "metadata": {},
   "outputs": [],
   "source": [
    "time.sleep(2)\n",
    "switch = driver.find_element(By.CSS_SELECTOR, \"label.toggle-switch\")\n",
    "switch.click()\n"
   ]
  },
  {
   "cell_type": "code",
   "execution_count": null,
   "id": "12f50a70-bd1c-4138-85eb-e8ac128db284",
   "metadata": {},
   "outputs": [],
   "source": [
    "time.sleep(2)\n",
    "### now get the absolute values\n",
    "# Initialize the result dictionary\n",
    "interest_bearing_absolute = {}\n",
    "\n",
    "# Find all blocks containing interest-bearing calculation lines\n",
    "blocks = driver.find_elements(By.CSS_SELECTOR, \"div.col-md-6\")\n",
    "\n",
    "for block in blocks:\n",
    "    titles = block.find_elements(By.CSS_SELECTOR, \".calculation-line-item-title\")\n",
    "    values = block.find_elements(By.CSS_SELECTOR, \".calculation-line-item-val\")\n",
    "\n",
    "    if len(titles) == 3 and \"Interest-bearing securities and assets\" in titles[2].text:\n",
    "        interest_bearing_absolute = {\n",
    "            titles[0].text.strip(): values[0].text.strip(),\n",
    "            titles[1].text.strip(): values[1].text.strip(),\n",
    "            titles[2].text.strip(): values[2].text.strip()\n",
    "        }\n",
    "        break  # Exit loop once found\n",
    "\n",
    "print(interest_bearing_absolute)"
   ]
  },
  {
   "cell_type": "code",
   "execution_count": null,
   "id": "1dfc8443-a1d5-493f-acc4-bf4a17c7ee1a",
   "metadata": {},
   "outputs": [],
   "source": [
    "# now get the Trailing 36-month average market capitalization\n",
    "\n",
    "# Find all percentage calculation blocks\n",
    "percentage_blocks = driver.find_elements(By.CSS_SELECTOR, \"div.calc-percent.text-center\")\n",
    "\n",
    "# Initialize the output variable\n",
    "trailing_36_month_avg_market_cap = None\n",
    "\n",
    "# Loop through and extract the denominator\n",
    "for block in percentage_blocks:\n",
    "    try:\n",
    "        fraction_spans = block.find_elements(By.CSS_SELECTOR, \"div.d-flex.flex-column.align-items-center span\")\n",
    "        if len(fraction_spans) == 2:\n",
    "            trailing_36_month_avg_market_cap = fraction_spans[1].text.strip()\n",
    "            break\n",
    "    except Exception as e:\n",
    "        print(\"Error extracting market cap:\", e)\n",
    "\n",
    "print(\"Trailing 36-month average market capitalization:\", trailing_36_month_avg_market_cap)"
   ]
  },
  {
   "cell_type": "markdown",
   "id": "6145db1c-776d-4172-9312-a1585de9859f",
   "metadata": {},
   "source": [
    "### interest bearing debt"
   ]
  },
  {
   "cell_type": "code",
   "execution_count": null,
   "id": "cc8c9287-1c99-4312-96fb-30148b03ecf9",
   "metadata": {},
   "outputs": [],
   "source": [
    "driver.find_element(By.TAG_NAME, 'body').send_keys(Keys.HOME)\n",
    "time.sleep(2)\n",
    "buttons = driver.find_elements(By.CSS_SELECTOR, \"a.tab-btn\")\n",
    "for btn in buttons:\n",
    "    if \"Interest-bearing\" in btn.text and \"debt\" in btn.text:\n",
    "        btn.click()\n",
    "        break"
   ]
  },
  {
   "cell_type": "code",
   "execution_count": null,
   "id": "170e85fa-0f9d-4947-b28f-8074c3efb38e",
   "metadata": {},
   "outputs": [],
   "source": [
    "# driver.find_element(By.TAG_NAME, 'body').send_keys(Keys.SPACE)\n"
   ]
  },
  {
   "cell_type": "code",
   "execution_count": null,
   "id": "d9a8d645-6c2c-420b-8cf2-2c38cdb2ee6d",
   "metadata": {},
   "outputs": [],
   "source": [
    "time.sleep(2)\n",
    "try:\n",
    "    # Wait for element to be present\n",
    "    calc_dropdown_btn = WebDriverWait(driver, 10).until(\n",
    "        EC.presence_of_element_located((\n",
    "            By.XPATH, \"//button[.//span[text()='Calculation']]\"\n",
    "        ))\n",
    "    )\n",
    "\n",
    "    # Scroll it into view (align to center)\n",
    "    driver.execute_script(\"arguments[0].scrollIntoView({behavior: 'smooth', block: 'center'});\", calc_dropdown_btn)\n",
    "\n",
    "    # Wait briefly for scroll to complete/rendering\n",
    "    WebDriverWait(driver, 2).until(EC.element_to_be_clickable((\n",
    "        By.XPATH, \"//button[.//span[text()='Calculation']]\"\n",
    "    )))\n",
    "\n",
    "    # Click using JavaScript (bypasses viewport issues)\n",
    "    driver.execute_script(\"arguments[0].click();\", calc_dropdown_btn)\n",
    "    print(\"Calculation dropdown clicked via JS.\")\n",
    "\n",
    "except Exception as e:\n",
    "    print(\"Failed to click Calculation dropdown:\", e)"
   ]
  },
  {
   "cell_type": "code",
   "execution_count": null,
   "id": "c07ab1fd-c54d-4e3f-869c-b2127631c8e5",
   "metadata": {},
   "outputs": [],
   "source": [
    "time.sleep(3)\n",
    "# Initialize the result dictionary\n",
    "interest_bearing_debt_percentage = {}\n",
    "\n",
    "# Find all blocks containing interest-bearing calculation lines\n",
    "blocks = driver.find_elements(By.CSS_SELECTOR, \"div.col-md-6\")\n",
    "\n",
    "for block in blocks:\n",
    "    titles = block.find_elements(By.CSS_SELECTOR, \".calculation-line-item-title\")\n",
    "    values = block.find_elements(By.CSS_SELECTOR, \".calculation-line-item-val\")\n",
    "\n",
    "    if len(titles) == 3 and \"Total Interest-bearing debt\" in titles[2].text:\n",
    "        interest_bearing_debt_percentage = {\n",
    "            titles[0].text.strip(): values[0].text.strip(),\n",
    "            titles[1].text.strip(): values[1].text.strip(),\n",
    "            titles[2].text.strip(): values[2].text.strip()\n",
    "        }\n",
    "        break  # Exit loop once found\n",
    "\n",
    "print(interest_bearing_debt_percentage)"
   ]
  },
  {
   "cell_type": "code",
   "execution_count": null,
   "id": "bf26dc16-070c-4f3f-8541-3acc5a2971ea",
   "metadata": {},
   "outputs": [],
   "source": [
    "switch = driver.find_element(By.CSS_SELECTOR, \"label.toggle-switch\")\n",
    "switch.click()\n"
   ]
  },
  {
   "cell_type": "code",
   "execution_count": null,
   "id": "8f5edcb1-3a11-48e7-8426-420ebbf85018",
   "metadata": {},
   "outputs": [],
   "source": [
    "time.sleep(2)\n",
    "# Initialize the result dictionary\n",
    "interest_bearing_debt_absolute = {}\n",
    "\n",
    "# Find all blocks containing interest-bearing calculation lines\n",
    "blocks = driver.find_elements(By.CSS_SELECTOR, \"div.col-md-6\")\n",
    "\n",
    "for block in blocks:\n",
    "    titles = block.find_elements(By.CSS_SELECTOR, \".calculation-line-item-title\")\n",
    "    values = block.find_elements(By.CSS_SELECTOR, \".calculation-line-item-val\")\n",
    "\n",
    "    if len(titles) == 3 and \"Total Interest-bearing debt\" in titles[2].text:\n",
    "        interest_bearing_debt_absolute = {\n",
    "            titles[0].text.strip(): values[0].text.strip(),\n",
    "            titles[1].text.strip(): values[1].text.strip(),\n",
    "            titles[2].text.strip(): values[2].text.strip()\n",
    "        }\n",
    "        break  # Exit loop once found\n",
    "\n",
    "print(interest_bearing_debt_absolute)"
   ]
  },
  {
   "cell_type": "markdown",
   "id": "d8a0c7c1-2c9b-405f-80ea-619dce504df5",
   "metadata": {},
   "source": [
    "## Compliance history"
   ]
  },
  {
   "cell_type": "code",
   "execution_count": null,
   "id": "a8f94da2-dce9-4607-88ab-7b8cd63a534e",
   "metadata": {},
   "outputs": [],
   "source": [
    "try:\n",
    "    # Wait until any button with \"View Compliance History\" text appears\n",
    "    history_button = WebDriverWait(driver, 10).until(\n",
    "        EC.presence_of_element_located((\n",
    "            By.XPATH, \"//button[.//span[normalize-space(text())='View Compliance History']]\"\n",
    "        ))\n",
    "    )\n",
    "\n",
    "    # Scroll it into view\n",
    "    driver.execute_script(\"arguments[0].scrollIntoView({behavior: 'smooth', block: 'center'});\", history_button)\n",
    "\n",
    "    # Wait a little to ensure scroll is complete\n",
    "    WebDriverWait(driver, 2).until(\n",
    "        EC.element_to_be_clickable((\n",
    "            By.XPATH, \"//button[.//span[normalize-space(text())='View Compliance History']]\"\n",
    "        ))\n",
    "    )\n",
    "\n",
    "    # Click using JavaScript for robustness\n",
    "    driver.execute_script(\"arguments[0].click();\", history_button)\n",
    "    print(\"Clicked 'View Compliance History' button.\")\n",
    "\n",
    "except Exception as e:\n",
    "    print(\"Failed to click 'View Compliance History':\", e)"
   ]
  },
  {
   "cell_type": "code",
   "execution_count": null,
   "id": "30f616cc-399f-4b6d-95e1-984fab34c542",
   "metadata": {},
   "outputs": [],
   "source": [
    "# Ensure you're at the compliance history section\n",
    "try:\n",
    "    container = WebDriverWait(driver, 10).until(\n",
    "        EC.presence_of_element_located((By.CSS_SELECTOR, \"div.history-list-container\"))\n",
    "    )\n",
    "    \n",
    "    # Scroll the container multiple times to ensure full list is loaded\n",
    "    for _ in range(10):  # Adjust this if needed\n",
    "        driver.execute_script(\"arguments[0].scrollBy(0, 300);\", container)\n",
    "        time.sleep(0.3)\n",
    "\n",
    "    # Extract all compliance history items\n",
    "    history_items = driver.find_elements(By.CSS_SELECTOR, \"li.compliance-history-item\")\n",
    "\n",
    "    compliance_history = []\n",
    "    for item in history_items:\n",
    "        try:\n",
    "            date_range = item.find_element(By.CSS_SELECTOR, \".year-span\").text.strip()\n",
    "            report_source = item.find_element(By.CSS_SELECTOR, \".quarter-text\").text.replace(\"Report Source:\", \"\").strip()\n",
    "            status = item.find_element(By.CSS_SELECTOR, \".history-chip\").text.strip()\n",
    "\n",
    "            compliance_history.append({\n",
    "                \"date_range\": date_range,\n",
    "                \"report_source\": report_source,\n",
    "                \"status\": status\n",
    "            })\n",
    "        except Exception as e:\n",
    "            print(\"Skipping one item due to error:\", e)\n",
    "            continue\n",
    "\n",
    "    print(\"Extracted Compliance History:\")\n",
    "    for entry in compliance_history:\n",
    "        print(entry)\n",
    "\n",
    "except Exception as e:\n",
    "    print(\"Failed to extract compliance history:\", e)"
   ]
  },
  {
   "cell_type": "markdown",
   "id": "516e7726-c26f-4573-80b7-2454927d5366",
   "metadata": {},
   "source": [
    "## Save it all"
   ]
  },
  {
   "cell_type": "code",
   "execution_count": null,
   "id": "0b376b31-152f-4e5e-9740-8a04586f6183",
   "metadata": {},
   "outputs": [],
   "source": [
    "# Aggregate everything into one dictionary\n",
    "full_report = {\n",
    "    \"shariah_compliance_info_level1\": shariah_compliance_info_level1,\n",
    "    \"business_screening\": business_screening,\n",
    "    \"absolute_halal_calculation\": absolute_halal_calculation,\n",
    "    \"detailed_report\": detailed_report,\n",
    "    \"financial_screening\": financial_screening,\n",
    "    \"interest_bearing_percentage\": interest_bearing_percentage,\n",
    "    \"interest_bearing_absolute\": interest_bearing_absolute,\n",
    "    \"trailing_36_month_avg_market_cap\": trailing_36_month_avg_market_cap,\n",
    "    \"interest_bearing_debt_percentage\": interest_bearing_debt_percentage,\n",
    "    \"interest_bearing_debt_absolute\": interest_bearing_debt_absolute,\n",
    "    \"compliance_history\":compliance_history\n",
    "}\n",
    "\n",
    "# Create a valid filename from company name\n",
    "filename = f\"reports/{company_name.replace('.', '_')}.pkl\"\n",
    "\n",
    "# Save as pickle file\n",
    "with open(filename, 'wb') as f:\n",
    "    pickle.dump(full_report, f)\n",
    "\n",
    "print(f\"Saved report to {filename}\")"
   ]
  },
  {
   "cell_type": "code",
   "execution_count": null,
   "id": "9574fcbd-cb19-42e5-9367-c04a5d859c93",
   "metadata": {},
   "outputs": [],
   "source": [
    "full_report"
   ]
  },
  {
   "cell_type": "code",
   "execution_count": null,
   "id": "369c13dc-8185-4bcb-826e-8a5f5db000e6",
   "metadata": {},
   "outputs": [],
   "source": []
  }
 ],
 "metadata": {
  "kernelspec": {
   "display_name": "py310k",
   "language": "python",
   "name": "py310k"
  },
  "language_info": {
   "codemirror_mode": {
    "name": "ipython",
    "version": 3
   },
   "file_extension": ".py",
   "mimetype": "text/x-python",
   "name": "python",
   "nbconvert_exporter": "python",
   "pygments_lexer": "ipython3",
   "version": "3.10.16"
  }
 },
 "nbformat": 4,
 "nbformat_minor": 5
}
