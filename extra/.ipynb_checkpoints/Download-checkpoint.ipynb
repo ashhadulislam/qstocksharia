{
 "cells": [
  {
   "cell_type": "code",
   "execution_count": null,
   "id": "6fa5ba16-fb82-482c-93d1-96053df1686e",
   "metadata": {},
   "outputs": [],
   "source": []
  },
  {
   "cell_type": "code",
   "execution_count": null,
   "id": "8099c377-f0c7-4911-99e0-7439764fcea5",
   "metadata": {},
   "outputs": [],
   "source": [
    "df_links"
   ]
  },
  {
   "cell_type": "code",
   "execution_count": 28,
   "id": "6a108949-8203-449f-8477-233a5a1d3b62",
   "metadata": {},
   "outputs": [
    {
     "name": "stdout",
     "output_type": "stream",
     "text": [
      "✅ Downloaded: 2018.pdf\n",
      "https://www.qnb.com/sites/qnb/qnbglobal/document/en/enAnnualReport2018\n"
     ]
    }
   ],
   "source": [
    "import requests\n",
    "import pandas as pd\n",
    "import time\n",
    "\n",
    "company_code='QNNS'#'QNBK'\n",
    "df_links=pd.read_csv(f'AnnualReportLinks/{company_code}_Links.csv')\n",
    "save_folder = f\"{company_code}_annual_reports\"\n",
    "\n",
    "import os\n",
    "os.makedirs(save_folder, exist_ok=True)\n",
    "\n",
    "\n",
    "\n",
    "headers = {\n",
    "    \"User-Agent\": \"Mozilla/5.0 (Windows NT 10.0; Win64; x64) AppleWebKit/537.36 \"\n",
    "                  \"(KHTML, like Gecko) Chrome/123.0.0.0 Safari/537.36\",\n",
    "    \"Accept\": \"application/pdf\",\n",
    "}\n",
    "\n",
    "for index, row in df_links.iterrows():\n",
    "    #print(row['URL'], row['Year'])\n",
    "    url=row['URL']\n",
    "    year=row['Year']\n",
    "    filename = f\"{year}.pdf\"  # Save with last part of URL\n",
    "    filepath = os.path.join(save_folder, filename)\n",
    "    \n",
    "\n",
    "    # Skip if file already exists\n",
    "    if os.path.exists(filepath):\n",
    "        #print(f\"⏩ Already exists: {filename} - Skipping download\")\n",
    "        continue\n",
    "    \n",
    "    try:\n",
    "        response = requests.get(url, headers=headers, stream=True)\n",
    "        \n",
    "        with open(filepath, \"wb\") as f:\n",
    "            f.write(response.content)\n",
    "        print(f\"✅ Downloaded: {filename}\")\n",
    "        print(url)\n",
    "        \n",
    "    except Exception as e:\n",
    "        print(f\"❌ Error downloading {url}: {str(e)}\")\n"
   ]
  },
  {
   "cell_type": "code",
   "execution_count": 10,
   "id": "84a20793-e1ea-40e5-b10c-cb04b8ac5545",
   "metadata": {},
   "outputs": [
    {
     "data": {
      "text/plain": [
       "'text/html; charset=UTF-8'"
      ]
     },
     "execution_count": 10,
     "metadata": {},
     "output_type": "execute_result"
    }
   ],
   "source": [
    "response.headers.get(\"Content-Type\")"
   ]
  },
  {
   "cell_type": "code",
   "execution_count": 11,
   "id": "789765ac-8120-4efb-acea-1d90d6e5e1c2",
   "metadata": {},
   "outputs": [
    {
     "data": {
      "text/plain": [
       "403"
      ]
     },
     "execution_count": 11,
     "metadata": {},
     "output_type": "execute_result"
    }
   ],
   "source": [
    "response.status_code "
   ]
  },
  {
   "cell_type": "code",
   "execution_count": 12,
   "id": "fd122912-3172-446d-8aec-be96a9052fe8",
   "metadata": {},
   "outputs": [
    {
     "data": {
      "text/plain": [
       "'https://www.qnb.com/sites/qnb/qnbqatar/document/en/enAnnualReport2009'"
      ]
     },
     "execution_count": 12,
     "metadata": {},
     "output_type": "execute_result"
    }
   ],
   "source": [
    "url"
   ]
  },
  {
   "cell_type": "code",
   "execution_count": 13,
   "id": "a6dbb9dc-ab2d-4057-a2e8-ea22a8678bd5",
   "metadata": {},
   "outputs": [],
   "source": [
    "response = requests.get(url, headers=headers, stream=True)"
   ]
  },
  {
   "cell_type": "code",
   "execution_count": 14,
   "id": "33036523-9161-410f-a1b0-d665d2b5f4f6",
   "metadata": {},
   "outputs": [],
   "source": [
    "with open(filepath, \"wb\") as f:\n",
    "    f.write(response.content)"
   ]
  },
  {
   "cell_type": "code",
   "execution_count": null,
   "id": "3ad084e4-eeb8-466c-8540-912bbd16ba74",
   "metadata": {},
   "outputs": [],
   "source": []
  }
 ],
 "metadata": {
  "kernelspec": {
   "display_name": "py310k",
   "language": "python",
   "name": "py310k"
  },
  "language_info": {
   "codemirror_mode": {
    "name": "ipython",
    "version": 3
   },
   "file_extension": ".py",
   "mimetype": "text/x-python",
   "name": "python",
   "nbconvert_exporter": "python",
   "pygments_lexer": "ipython3",
   "version": "3.10.16"
  }
 },
 "nbformat": 4,
 "nbformat_minor": 5
}
